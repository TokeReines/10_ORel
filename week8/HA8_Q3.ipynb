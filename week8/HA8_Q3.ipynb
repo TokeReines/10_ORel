{
 "cells": [
  {
   "cell_type": "code",
   "execution_count": 1,
   "metadata": {},
   "outputs": [
    {
     "name": "stdout",
     "output_type": "stream",
     "text": [
      "Estimating the optimal gain...\n",
      "Running experiments...\n"
     ]
    },
    {
     "name": "stderr",
     "output_type": "stream",
     "text": [
      "  0%|          | 0/50 [00:00<?, ?it/s]/home/tokereines/repositories/10_ORel/week8/UCRL2_L.py:353: RuntimeWarning: divide by zero encountered in log\n",
      "  self.confP[s, a] = np.sqrt((2 * (1 + 1 / n) * np.log(np.sqrt(n + 1) * (2**(len(self.support[s][a])) - 2) / d)) / n)\n",
      "/home/tokereines/repositories/10_ORel/week8/UCRL2_L.py:353: RuntimeWarning: invalid value encountered in sqrt\n",
      "  self.confP[s, a] = np.sqrt((2 * (1 + 1 / n) * np.log(np.sqrt(n + 1) * (2**(len(self.support[s][a])) - 2) / d)) / n)\n",
      " 28%|██▊       | 14/50 [04:00<10:23, 17.32s/it]"
     ]
    },
    {
     "name": "stdout",
     "output_type": "stream",
     "text": [
      "No convergence in EVI after:  200  steps!\n"
     ]
    },
    {
     "name": "stderr",
     "output_type": "stream",
     "text": [
      " 48%|████▊     | 24/50 [06:55<07:39, 17.66s/it]"
     ]
    },
    {
     "name": "stdout",
     "output_type": "stream",
     "text": [
      "No convergence in EVI after:  200  steps!\n",
      "No convergence in EVI after:  200  steps!\n",
      "No convergence in EVI after:  200  steps!\n"
     ]
    },
    {
     "name": "stderr",
     "output_type": "stream",
     "text": [
      " 56%|█████▌    | 28/50 [08:01<06:02, 16.48s/it]"
     ]
    },
    {
     "name": "stdout",
     "output_type": "stream",
     "text": [
      "No convergence in EVI after:  200  steps!\n"
     ]
    },
    {
     "name": "stderr",
     "output_type": "stream",
     "text": [
      " 70%|███████   | 35/50 [09:55<04:05, 16.39s/it]"
     ]
    },
    {
     "name": "stdout",
     "output_type": "stream",
     "text": [
      "No convergence in EVI after:  200  steps!\n"
     ]
    },
    {
     "name": "stderr",
     "output_type": "stream",
     "text": [
      " 86%|████████▌ | 43/50 [12:07<01:54, 16.41s/it]"
     ]
    },
    {
     "name": "stdout",
     "output_type": "stream",
     "text": [
      "No convergence in EVI after:  200  steps!\n"
     ]
    },
    {
     "name": "stderr",
     "output_type": "stream",
     "text": [
      "100%|██████████| 50/50 [14:01<00:00, 16.83s/it]\n"
     ]
    }
   ],
   "source": [
    "import numpy as np\n",
    "from tqdm import tqdm\n",
    "from UCRL2_L import UCRL2_L, VI, plot, riverswim, UCRL2_L_support, UCRL2_L_SuppSize\n",
    "\n",
    "\n",
    "nS = 6\n",
    "env = riverswim(nS, ergodic=True)\n",
    "delta = 0.05\n",
    "\n",
    "# Set the time horizon:\n",
    "T = 4 * 10**5\n",
    "nb_Replicates = 50\n",
    "\n",
    "# Set the learning agents:\n",
    "UCRL2L = UCRL2_L(nS, 2, delta)\n",
    "UCRL2L_supp_size = UCRL2_L_SuppSize(nS, 2, delta, support=env.support)\n",
    "UCRL2L_supp = UCRL2_L_support(nS, 2, delta, support=env.support)\n",
    "\n",
    "# Set the variables used for plotting.\n",
    "cumregret_UCRL2L = [[0] for _ in range(nb_Replicates)]\n",
    "cumrewards_UCRL2L = [[0] for _ in range(nb_Replicates)]\n",
    "\n",
    "cumregret_UCRL2L_supp_size = [[0] for _ in range(nb_Replicates)]\n",
    "cumrewards_UCRL2L_supp_size = [[0] for _ in range(nb_Replicates)]\n",
    "\n",
    "cumregret_UCRL2L_supp = [[0] for _ in range(nb_Replicates)]\n",
    "cumrewards_UCRL2L_supp = [[0] for _ in range(nb_Replicates)]\n",
    "\n",
    "# Estimate the optimal gain.\n",
    "print(\n",
    "    \"Estimating the optimal gain...\",\n",
    ")\n",
    "_, _, _, gstar = VI(env, 10**6, 10 ** (-6))\n",
    "episode_counts = np.zeros((nb_Replicates, 3))\n",
    "# Run the experiments:\n",
    "print(\"Running experiments...\")\n",
    "for i in tqdm(range(nb_Replicates)):\n",
    "    # Running an instance of UCRL2-L:\n",
    "    env.reset()    \n",
    "    UCRL2L.reset(env.s)    \n",
    "    reward = 0\n",
    "    new_s = env.s\n",
    "    for _ in range(T):\n",
    "        action, _ = UCRL2L.play(new_s, reward)\n",
    "        new_s, reward = env.step(action)\n",
    "        cumregret_UCRL2L[i].append(cumregret_UCRL2L[i][-1] + gstar - reward)\n",
    "        cumrewards_UCRL2L[i].append(cumrewards_UCRL2L[i][-1] + reward)\n",
    "        \n",
    "    episode_counts[i, 0] = UCRL2L.episode_count\n",
    "        \n",
    "    env.reset()    \n",
    "    UCRL2L_supp.reset(env.s)\n",
    "    reward = 0\n",
    "    new_s = env.s\n",
    "    for _ in range(T):\n",
    "        action, _ = UCRL2L_supp.play(new_s, reward)\n",
    "        new_s, reward = env.step(action)\n",
    "        cumregret_UCRL2L_supp[i].append(cumregret_UCRL2L_supp[i][-1] + gstar - reward)\n",
    "        cumrewards_UCRL2L_supp[i].append(cumrewards_UCRL2L_supp[i][-1] + reward)\n",
    "        \n",
    "    episode_counts[i, 1] = UCRL2L_supp.episode_count\n",
    "    \n",
    "    env.reset()    \n",
    "    UCRL2L_supp_size.reset(env.s)\n",
    "    reward = 0\n",
    "    new_s = env.s\n",
    "    for _ in range(T):\n",
    "        action, _ = UCRL2L_supp_size.play(new_s, reward)\n",
    "        new_s, reward = env.step(action)\n",
    "        cumregret_UCRL2L_supp_size[i].append(cumregret_UCRL2L_supp_size[i][-1] + gstar - reward)\n",
    "        cumrewards_UCRL2L_supp_size[i].append(cumrewards_UCRL2L_supp_size[i][-1] + reward)\n",
    "        \n",
    "    episode_counts[i, 2] = UCRL2L_supp_size.episode_count"
   ]
  },
  {
   "cell_type": "code",
   "execution_count": 2,
   "metadata": {},
   "outputs": [
    {
     "name": "stdout",
     "output_type": "stream",
     "text": [
      "\n",
      "Plotting...\n"
     ]
    },
    {
     "name": "stderr",
     "output_type": "stream",
     "text": [
      "findfont: Font family 'Arial' not found.\n",
      "findfont: Font family 'Arial' not found.\n",
      "findfont: Font family 'Arial' not found.\n",
      "findfont: Font family 'Arial' not found.\n",
      "findfont: Font family 'Arial' not found.\n",
      "findfont: Font family 'Arial' not found.\n",
      "findfont: Font family 'Arial' not found.\n",
      "findfont: Font family 'Arial' not found.\n",
      "findfont: Font family 'Arial' not found.\n",
      "findfont: Font family 'Arial' not found.\n"
     ]
    },
    {
     "name": "stdout",
     "output_type": "stream",
     "text": [
      "Done!\n"
     ]
    },
    {
     "data": {
      "text/plain": [
       "<Figure size 640x480 with 0 Axes>"
      ]
     },
     "metadata": {},
     "output_type": "display_data"
    },
    {
     "name": "stderr",
     "output_type": "stream",
     "text": [
      "findfont: Font family 'Arial' not found.\n",
      "findfont: Font family 'Arial' not found.\n",
      "findfont: Font family 'Arial' not found.\n",
      "findfont: Font family 'Arial' not found.\n",
      "findfont: Font family 'Arial' not found.\n"
     ]
    },
    {
     "data": {
      "image/png": "[encoded data removed]",
      "text/plain": [
       "<Figure size 640x480 with 1 Axes>"
      ]
     },
     "metadata": {},
     "output_type": "display_data"
    }
   ],
   "source": [
    "# Plot and finish.\n",
    "print(\"\\nPlotting...\")\n",
    "plot(\n",
    "    [cumregret_UCRL2L, cumregret_UCRL2L_supp_size, cumregret_UCRL2L_supp],\n",
    "    [\"UCRL2_L\", \"UCRL2_L_SuppSize\", \"UCRL2_L_supp\"],\n",
    "    y_label=\"Cumulative Regret\",\n",
    "    exp_name=\"cumulative_regret\",\n",
    "    q=\"3\"\n",
    ")\n",
    "\n",
    "print(\"Done!\")"
   ]
  }
 ],
 "metadata": {
  "kernelspec": {
   "display_name": "10-orel-EypsHRW3-py3.10",
   "language": "python",
   "name": "python3"
  },
  "language_info": {
   "codemirror_mode": {
    "name": "ipython",
    "version": 3
   },
   "file_extension": ".py",
   "mimetype": "text/x-python",
   "name": "python",
   "nbconvert_exporter": "python",
   "pygments_lexer": "ipython3",
   "version": "3.10.12"
  }
 },
 "nbformat": 4,
 "nbformat_minor": 2
}
